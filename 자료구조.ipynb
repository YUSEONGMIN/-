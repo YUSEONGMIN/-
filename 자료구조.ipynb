{
 "cells": [
  {
   "cell_type": "markdown",
   "id": "3bde31cb",
   "metadata": {},
   "source": [
    "# 1. 자료구조란?\n",
    "\n",
    "# 2. 자료구조가 왜 중요한가?\n",
    "\n",
    "# 3. 파이썬의 자료구조\n",
    "\n",
    "___\n",
    "\n",
    "# 선택사항) 클래스\n",
    "___"
   ]
  },
  {
   "cell_type": "markdown",
   "id": "48e116ee",
   "metadata": {},
   "source": [
    "# 1. 자료구조란? \n",
    "\n",
    "## 여러 값을 넣을 수 있는 바구니\n",
    "\n",
    "[<img src=\"http://wikidocs.net/images/page/21813/%EA%B7%B8%EB%A6%BC_1-30.png\">](https://wikidocs.net/21813)\n",
    "\n",
    "파이썬의 데이터 형태(**type**)은 정수(int), 실수(float), 문자열(str)이 있음  \n",
    "\n",
    "데이터를 효율적으로 쓸 수 있도록 정리할 수 있음\n",
    "\n",
    "각각의 자료구조는 장단점이 존재"
   ]
  },
  {
   "cell_type": "markdown",
   "id": "b5017a88",
   "metadata": {},
   "source": [
    "[<img src=\"https://www.hanbit.co.kr/data/editor/20231027090450_wfludeql.png\">](https://hanbit.co.kr/channel/category/category_view.html?cms_code=CMS2832062046)\n",
    "\n",
    "\n",
    "\n",
    "이외에도 힙, 덱, 해시 테이블 등등...  \n",
    "**정적**인지 **동적**인지에 따라 분류하기도\n",
    "\n",
    "하지만 파이썬은..."
   ]
  },
  {
   "cell_type": "markdown",
   "id": "f32dfb46",
   "metadata": {},
   "source": [
    "<img src=\"https://www.hanbit.co.kr/data/editor/20231027090834_lhwmobfs.png\">\n",
    "\n",
    "<img src=\"https://www.hanbit.co.kr/data/editor/20231027090839_vmscxsan.png\">\n"
   ]
  },
  {
   "cell_type": "markdown",
   "id": "f328f29c",
   "metadata": {},
   "source": [
    "## 스택(Stack)\n",
    "\n",
    "<img src=\"https://user-images.githubusercontent.com/59376200/127250787-bc69ec8e-573e-4f9c-91ee-39409598da00.png\" width=\"50%\">\n",
    "\n",
    "### 후입 선출\n",
    "\n",
    "**한 방향**에서만 삽입(push)/삭제(pop) 가능\n",
    "\n",
    "### 왜 쓰는가?\n",
    "\n",
    "- ~추상적 자료 구조 (Abstract Data Type; ADT) -> 스택, 큐, 연결 리스트, 사전~\n",
    "- 에러 발생률 낮추기 위해\n",
    "- 효율적 -> `Undo`: `Ctrl+Z` = 가장 최근에 실행한 명령어 취소\n",
    "    - 마지막에 들어간 자료가 먼저 나와야 효율적임\n",
    "\n",
    "\n",
    "### 스택의 사용 사례\n",
    "- 웹 브라우저 방문기록 (뒤로 가기)\n",
    "    - 스택을 2개 생성\n",
    "    - 페이지 이동할 때마다 push\n",
    "    - 뒤로 가기면 pop 후 다른 스택에 push\n",
    "- 실행 취소(undo)\n",
    "- 역순 문자열 만들기\n",
    "- 후위 표기법 계산"
   ]
  },
  {
   "cell_type": "markdown",
   "id": "37b2a58a",
   "metadata": {},
   "source": [
    "# [백준 9012번 - 괄호](https://www.acmicpc.net/problem/9012)\n",
    "\n",
    "<img src=\"https://img1.daumcdn.net/thumb/R1280x0/?scode=mtistory2&fname=https%3A%2F%2Fblog.kakaocdn.net%2Fdn%2FbzKkAy%2FbtqZ0tQbr3a%2F2X7XRTTinMgHDEO57Dn4F1%2Fimg.png\">\n",
    "\n",
    "## 스택을 활용한 문제\n",
    "\n",
    "___\n",
    "\n",
    "힌트(드래그)\n",
    "\n",
    "<span style=\"color:yellow; background-color:#fff5b1\"> \n",
    "소괄호들이 잘 닫혔는지만 판별!\n",
    "</span>  \n"
   ]
  },
  {
   "cell_type": "markdown",
   "id": "31fe3882",
   "metadata": {},
   "source": [
    "## 큐(Queue; 큐웨웨)\n",
    "\n",
    "<img src=\"https://user-images.githubusercontent.com/59376200/127253000-528edd13-59d3-4cd5-a7c9-8529cc9dae34.png\">\n",
    "\n",
    "### 선입 선출\n",
    "\n",
    "한쪽 끝(rear)은 삽입만, 다른 한쪽 끝(front)은 삭제만  \n",
    "rear에서 이루어지는 삽입연산을 인큐(EnQueue)  \n",
    "front에서 이루어지는 삭제연산을 디큐(DeQueue)\n",
    "\n",
    "\n",
    "### 왜 쓰는가?\n",
    "\n",
    "- 데이터가 입력된 시간 순서대로 처리하기 위해\n",
    "\n",
    "\n",
    "### 큐의 사용 사례\n",
    "- 은행 업무\n",
    "- 대기열 순서 등 우선순위 작업예약 (프린터 인쇄 대기열)\n",
    "- 서비스 센터 대기시간\n",
    "- 프로세스 관리\n",
    "- [`너비 우선 탐색(Breadth-First Search; BFS)`](https://blog.naver.com/gluestuck/221911466341)"
   ]
  },
  {
   "cell_type": "markdown",
   "id": "9910e8f8",
   "metadata": {},
   "source": [
    "# [백준 1158번 - 요세푸스 문제](https://www.acmicpc.net/problem/9012)\n",
    "\n",
    "<img src=\"https://velog.velcdn.com/images%2Fsilver_star%2Fpost%2F9f34296f-0ffe-412e-bc26-087420ff2b91%2F%EC%9A%94%EC%84%B8%ED%91%B8%EC%8A%A4%20%EB%AC%B8%EC%A0%9C.PNG\">\n",
    "\n",
    "## 큐를 활용한 문제\n",
    "\n",
    "___\n",
    "\n",
    "힌트(드래그)  \n",
    "\n",
    "<span style=\"color:yellow; background-color:#fff5b1\"> \n",
    "1. 1~n을 큐에 저장 <br>\n",
    "2. (k-1)명을 큐에서 뽑아서 큐의 뒤로 보냄 <br>\n",
    "3. 이후 1명을 큐에서 삭제 및 출력\n",
    "</span>  \n"
   ]
  },
  {
   "cell_type": "markdown",
   "id": "1f605172",
   "metadata": {},
   "source": [
    "## 배열(Array)\n",
    "\n",
    "[<img src=\"https://img1.daumcdn.net/thumb/R1280x0/?scode=mtistory2&fname=https%3A%2F%2Fblog.kakaocdn.net%2Fdn%2FNHJDA%2FbtqCLNcd7Vc%2FyBSOkWNk4ooQCLiJBFUb21%2Fimg.png\" width=\"50%\">](https://davinci-ai.tistory.com/16)\n",
    "\n",
    "### 데이터를 순차적으로 저장하는 자료구조\n",
    "- 인덱스(Index)를 통해 직접 접근이 가능 \n",
    "\n",
    "### 왜 쓰는가?\n",
    "- 검색 성능이 좋다.\n",
    "- 데이터 크기가 확정적일 때 메모리 효율이 좋다.\n",
    "\n",
    "### 단점\n",
    "- 삽입/삭제가 어렵다. -> 인덱스 때문에 모든 요소를 이동"
   ]
  },
  {
   "cell_type": "markdown",
   "id": "47f444ee",
   "metadata": {},
   "source": [
    "# 2. 자료구조가 왜 중요한가?\n",
    "\n",
    "궁극적인 목표는 메모리를 효율적으로 사용하면서 데이터를 빠르고 안정적으로 처리하는 것  \n",
    "- 메모리는 자원(리소스)이기 때문에 시간과 비용을 절약할 수 있음\n",
    "\n",
    "자료구조는 특정 상황에 맞게 **유용**하게 사용될 수 있도록 만들어짐  \n",
    "= 어떤 상황에선 느리고 **불안정**할 수 있다.\n",
    "- 자료구조 선택에 따라 애플리케이션 성능이 크게 달라질 수 있음\n",
    "\n",
    "알고리즘은 특정 문제를 메모리 효율적이고 빠른 성능으로 해결하는 것이 목표\n",
    "- 자료구조를 알면 알고리즘 이해도 쉬움\n",
    "\n",
    "분석도 좋지만 개발 역량도 함께..."
   ]
  },
  {
   "cell_type": "markdown",
   "id": "76d1641b",
   "metadata": {},
   "source": [
    "### 자료구조 사례\n",
    "\n",
    "#### 상황\n",
    "\n",
    "100만 개의 고객 데이터를 최신으로 업데이트하기 위한 `배치` 작업 필요  \n",
    "\n",
    "> *배치: 데이터를 일괄적으로 모아서 처리하는 작업*\n",
    "\n",
    "- 100만 개의 고객 데이터는 CSV로 제공\n",
    "- CSV 데이터 중 기존 DB에 없는 고객은 추가\n",
    "- CSV 데이터엔 고객 key 값이 없으므로 DB의 여러 필드를 대조해야 함\n",
    "\n",
    "\n",
    "#### 구현\n",
    "100만 개 데이터를 매번 순회하여 고객을 찾은 후 업데이트, 없으면 추가  \n",
    "→  5일이 넘게 소요\n",
    "\n",
    "#### 개선\n",
    "`해시 테이블`과 `링크드 리스트`를 이용하여 데이터 구조를 변경  \n",
    "`이진 탐색 알고리즘` 적용   \n",
    "→ 20분 만에 해결 \n",
    "\n",
    "> *해시 테이블: 파이썬의 딕셔너리*  \n",
    "> *이진 탐색: 중앙값과 비교*"
   ]
  },
  {
   "cell_type": "markdown",
   "id": "db82a7e4",
   "metadata": {},
   "source": [
    "## 단순 자료구조"
   ]
  },
  {
   "cell_type": "code",
   "execution_count": 7,
   "id": "726cb63b",
   "metadata": {},
   "outputs": [],
   "source": [
    "import numpy as np"
   ]
  },
  {
   "cell_type": "markdown",
   "id": "36364d49",
   "metadata": {},
   "source": [
    "### 정수형 자료형\n",
    "\n",
    "*비트(Binary Digit; Bit): 컴퓨터가 처리하는 이산 데이터, 이진법*\n",
    "\n",
    "1비트당 2개의 숫자를 표현 (0과 1)\n",
    "\n",
    "int8 => 8비트 = 2^8 = 256개의 정수를 표현 (-128 ~ 127)  \n",
    "int16 => 2^16개의 정수표현 (-32768 ~ 32767)  \n",
    "int32, int64 ...  "
   ]
  },
  {
   "cell_type": "markdown",
   "id": "a5cf7b03",
   "metadata": {},
   "source": [
    "### 부호없는 정수형 자료형\n",
    "\n",
    "uint8 => 2^8개의 부호없는 정수표현 (0 ~ 255)  \n",
    "그레이스케일, 3채널 컬러(RGB) 이미지를 담을 때 많이 사용됩니다. "
   ]
  },
  {
   "cell_type": "code",
   "execution_count": 50,
   "id": "7857aa98",
   "metadata": {},
   "outputs": [
    {
     "name": "stdout",
     "output_type": "stream",
     "text": [
      "200\n"
     ]
    }
   ],
   "source": [
    "a = np.uint8(200)\n",
    "print(a) # 255 이하의 숫자인 200은 정상 출력"
   ]
  },
  {
   "cell_type": "code",
   "execution_count": 51,
   "id": "0a8e34a9",
   "metadata": {},
   "outputs": [],
   "source": [
    "import warnings\n",
    "warnings.filterwarnings('ignore')\n",
    "# 경고를 끄는 옵션"
   ]
  },
  {
   "cell_type": "code",
   "execution_count": 52,
   "id": "52bcd6f0",
   "metadata": {},
   "outputs": [
    {
     "name": "stdout",
     "output_type": "stream",
     "text": [
      "44\n"
     ]
    }
   ],
   "source": [
    "b = np.uint8(300)\n",
    "print(b) # 255가 넘는 숫자는 제대로 출력하지 못 함"
   ]
  },
  {
   "cell_type": "raw",
   "id": "54fbbf90",
   "metadata": {},
   "source": [
    "DeprecationWarning: 지원 중단경고\n",
    "\n",
    "NumPy will stop allowing conversion of out-of-bound Python integers to integer arrays.  \n",
    "NumPy는 경계를 벗어난 Python 정수를 정수 배열로 변환하는 것을 더 이상 허용하지 않습니다.\n",
    "\n",
    "The conversion of 300 to uint8 will fail in the future.\n",
    "앞으로는 300을 uint8로 변환하는 작업이 실패할 것입니다. \n",
    "\n",
    "For the old behavior, usually:\n",
    "이전 동작의 경우 일반적으로 다음과 같습니다.\n",
    "\n",
    "np.array(value).astype(dtype) will give the desired result (the cast overflows).\n",
    "np.array(value).astype(dtype)은 원하는 결과를 제공합니다(캐스트 오버플로).\n",
    "\n",
    "바구니가 넘치는 문제 -> 형변환(casting) 오버플로우(overflow)"
   ]
  },
  {
   "cell_type": "code",
   "execution_count": 44,
   "id": "2f3c117d",
   "metadata": {},
   "outputs": [
    {
     "data": {
      "text/plain": [
       "array(44, dtype=uint8)"
      ]
     },
     "execution_count": 44,
     "metadata": {},
     "output_type": "execute_result"
    }
   ],
   "source": [
    "np.array(300).astype(np.uint8)"
   ]
  },
  {
   "cell_type": "markdown",
   "id": "afdc25cf",
   "metadata": {},
   "source": [
    "## 복합 자료구조\n",
    "\n",
    "### 시간복잡도\n",
    "\n",
    "알고리즘을 수행하는 데 연산들이 **최대** 몇 번 이루어지는지 표시\n",
    "- Big-O 표기법\n",
    "\n",
    "### 스택/큐\n",
    "- 삽입,삭제: **O(1)**\n",
    "- 검색: **O(N)** -> 맨 끝에 있는 것\n",
    "\n",
    "### 배열  \n",
    "- 마지막에 삽입: **O(N)**\n",
    "- 마지막에 삭제: **O(1)**\n",
    "- 맨 앞/중간에 삽입,삭제: **O(N)**\n",
    "- 검색: **O(1)**"
   ]
  },
  {
   "cell_type": "markdown",
   "id": "664fac9a",
   "metadata": {},
   "source": [
    "### 마지막에 값 삽입\n",
    "\n",
    "<img src=\"https://blog.kakaocdn.net/dn/bkkB1B/btrC9MiKL6v/aeIoKnRgQnoI7vomlhuZ4K/img.gif\" width=\"50%\">\n",
    "\n",
    "### 마지막에 값 삭제\n",
    "\n",
    "<img src=\"https://blog.kakaocdn.net/dn/bOz4mp/btrHPJV4iAD/acf5OkcA3SwbLWFVPV4VV1/img.gif\" width=\"50%\">\n",
    "\n",
    "### 맨 앞/중간에 삽입,삭제\n",
    "\n",
    "<img src=\"https://blog.kakaocdn.net/dn/HgDBM/btrC7MDUAhM/xWMRnhGqAKWkaVbk1zqZN1/img.gif\" width=\"50%\">\n",
    "\n",
    "<img src=\"https://blog.kakaocdn.net/dn/btnURZ/btrC7e11hjg/YoMzPKFTdztckH5mnkIpJK/img.gif\" width=\"50%\">\n",
    "\n",
    "<img src=\"https://blog.kakaocdn.net/dn/ciFfnJ/btrHNW9431X/j98Ck6K1OIpJzoEy1AJjzK/img.gif\" width=\"50%\">\n",
    "\n",
    "\n",
    "### [Linked List 시간복잡도](https://jjoonleo.tistory.com/8)"
   ]
  },
  {
   "cell_type": "raw",
   "id": "8277749c",
   "metadata": {},
   "source": [
    "스택 오버플로우: 스택에 저장할 수 있는 데이터 양을 초과하여 삽입하려 할 때  \n",
    "\n",
    "스택 언더플로우: 스택에 데이터가 없는데 삭제하려 할 때"
   ]
  },
  {
   "cell_type": "markdown",
   "id": "f861e96b",
   "metadata": {},
   "source": [
    "# 3. 파이썬의 자료구조\n",
    "\n",
    "- 리스트 [] = 스택, 큐, 동적 배열\n",
    "- 튜플 () = 정적 배열\n",
    "- 딕셔너리 {} = 해시 테이블\n",
    "- 집합 set()\n",
    "- ``배열``"
   ]
  },
  {
   "cell_type": "markdown",
   "id": "f95c08dd",
   "metadata": {},
   "source": [
    "*iterable: str, tuple, list, dict* \n",
    "> [iterable과 iterator의 의미](https://bluese05.tistory.com/55)\n",
    "\n",
    "*sequence: str, tuple, list*\n",
    "\n",
    "| 구분 | 유형 |\n",
    "| --- | :-: |\n",
    "| 불변형 | int, float, str, tuple |\n",
    "| 가변형 | list, dict |"
   ]
  },
  {
   "cell_type": "markdown",
   "id": "7b45f214",
   "metadata": {},
   "source": [
    "## **파이썬 튜토리얼**\n",
    "\n",
    "[<img src=\"https://velog.velcdn.com/images/deep-of-machine/post/11cab4fc-20bd-4089-9753-d17dd8bbc047/image.png\">](https://docs.python.org/3/tutorial/)\n",
    "\n",
    "파이썬 홈페이지 화면 하단 중앙에 Docs (파이썬 공식 문서)\n",
    "\n",
    "Tutorial (한국어도 존재)\n",
    "\n",
    "5. 자료구조  \n",
    "- 5.1.1. 리스트를 스택으로 사용하기  \n",
    "- 5.1.2. 리스트를 큐로 사용하기  "
   ]
  },
  {
   "cell_type": "markdown",
   "id": "1e03c365",
   "metadata": {},
   "source": [
    "[<img src=\"https://wikidocs.net/images//book/%EC%B1%85%ED%91%9C%EC%A7%80_TYgY7JD_cz2xwpL_NZFv2zU_PkYrT8g_VC8tGqD_nkclMoc_1kl7b6o_GDLBq66_VygQ6lT_Gb0QKok_lXR5YAg.png\">](https://wikidocs.net/book/9059)\n",
    "\n",
    "### 목차\n",
    "> 3. 연결 리스트\n",
    "4. 스택\n",
    "5. 큐\n",
    "6. 해시 테이블\n",
    "7. 트리\n",
    "8. 힙\n",
    "9. 그래프"
   ]
  },
  {
   "cell_type": "markdown",
   "id": "853a4d83",
   "metadata": {},
   "source": [
    "### 프로그래머스 코딩테스트 알고리즘\n",
    "\n",
    "[<img src=\"https://sang12.co.kr/upload/2020/08/08/ae0e6899856445f0b571266845a9ec3c.png\">](https://school.programmers.co.kr/learn/challenges?tab=algorithm_practice_kit)\n",
    "\n",
    "해시 -> 딕셔너리\n",
    "- 딕셔너리는 순서가 없음\n",
    "\n",
    "스택, 큐 -> 리스트, deque\n",
    "- 리스트는 순서가 있음\n",
    "\n",
    "힙 -> heapq"
   ]
  },
  {
   "cell_type": "markdown",
   "id": "adbafcee",
   "metadata": {},
   "source": [
    "### 덱(deque): 스택과 큐를 모두 지원\n",
    "> double-ended queue\n",
    "- 앞, 뒤에서 요소들의 추가, 제거가 가능\n",
    "- deque의 스택, 큐 처리는 `list`보다 빠르다.\n",
    "- list는 O(N)이 걸리는 반면, deque은 O(1)"
   ]
  },
  {
   "cell_type": "code",
   "execution_count": 119,
   "id": "6aba3216",
   "metadata": {},
   "outputs": [],
   "source": [
    "from collections import deque"
   ]
  },
  {
   "cell_type": "code",
   "execution_count": 120,
   "id": "c7b00991",
   "metadata": {},
   "outputs": [
    {
     "name": "stdout",
     "output_type": "stream",
     "text": [
      "Help on class deque in module collections:\n",
      "\n",
      "class deque(builtins.object)\n",
      " |  deque([iterable[, maxlen]]) --> deque object\n",
      " |  \n",
      " |  A list-like sequence optimized for data accesses near its endpoints.\n",
      " |  \n",
      " |  Methods defined here:\n",
      " |  \n",
      " |  __add__(self, value, /)\n",
      " |      Return self+value.\n",
      " |  \n",
      " |  __contains__(self, key, /)\n",
      " |      Return key in self.\n",
      " |  \n",
      " |  __copy__(...)\n",
      " |      Return a shallow copy of a deque.\n",
      " |  \n",
      " |  __delitem__(self, key, /)\n",
      " |      Delete self[key].\n",
      " |  \n",
      " |  __eq__(self, value, /)\n",
      " |      Return self==value.\n",
      " |  \n",
      " |  __ge__(self, value, /)\n",
      " |      Return self>=value.\n",
      " |  \n",
      " |  __getattribute__(self, name, /)\n",
      " |      Return getattr(self, name).\n",
      " |  \n",
      " |  __getitem__(self, key, /)\n",
      " |      Return self[key].\n",
      " |  \n",
      " |  __gt__(self, value, /)\n",
      " |      Return self>value.\n",
      " |  \n",
      " |  __iadd__(self, value, /)\n",
      " |      Implement self+=value.\n",
      " |  \n",
      " |  __imul__(self, value, /)\n",
      " |      Implement self*=value.\n",
      " |  \n",
      " |  __init__(self, /, *args, **kwargs)\n",
      " |      Initialize self.  See help(type(self)) for accurate signature.\n",
      " |  \n",
      " |  __iter__(self, /)\n",
      " |      Implement iter(self).\n",
      " |  \n",
      " |  __le__(self, value, /)\n",
      " |      Return self<=value.\n",
      " |  \n",
      " |  __len__(self, /)\n",
      " |      Return len(self).\n",
      " |  \n",
      " |  __lt__(self, value, /)\n",
      " |      Return self<value.\n",
      " |  \n",
      " |  __mul__(self, value, /)\n",
      " |      Return self*value.\n",
      " |  \n",
      " |  __ne__(self, value, /)\n",
      " |      Return self!=value.\n",
      " |  \n",
      " |  __reduce__(...)\n",
      " |      Return state information for pickling.\n",
      " |  \n",
      " |  __repr__(self, /)\n",
      " |      Return repr(self).\n",
      " |  \n",
      " |  __reversed__(...)\n",
      " |      D.__reversed__() -- return a reverse iterator over the deque\n",
      " |  \n",
      " |  __rmul__(self, value, /)\n",
      " |      Return value*self.\n",
      " |  \n",
      " |  __setitem__(self, key, value, /)\n",
      " |      Set self[key] to value.\n",
      " |  \n",
      " |  __sizeof__(...)\n",
      " |      D.__sizeof__() -- size of D in memory, in bytes\n",
      " |  \n",
      " |  append(...)\n",
      " |      Add an element to the right side of the deque.\n",
      " |  \n",
      " |  appendleft(...)\n",
      " |      Add an element to the left side of the deque.\n",
      " |  \n",
      " |  clear(...)\n",
      " |      Remove all elements from the deque.\n",
      " |  \n",
      " |  copy(...)\n",
      " |      Return a shallow copy of a deque.\n",
      " |  \n",
      " |  count(...)\n",
      " |      D.count(value) -- return number of occurrences of value\n",
      " |  \n",
      " |  extend(...)\n",
      " |      Extend the right side of the deque with elements from the iterable\n",
      " |  \n",
      " |  extendleft(...)\n",
      " |      Extend the left side of the deque with elements from the iterable\n",
      " |  \n",
      " |  index(...)\n",
      " |      D.index(value, [start, [stop]]) -- return first index of value.\n",
      " |      Raises ValueError if the value is not present.\n",
      " |  \n",
      " |  insert(...)\n",
      " |      D.insert(index, object) -- insert object before index\n",
      " |  \n",
      " |  pop(...)\n",
      " |      Remove and return the rightmost element.\n",
      " |  \n",
      " |  popleft(...)\n",
      " |      Remove and return the leftmost element.\n",
      " |  \n",
      " |  remove(...)\n",
      " |      D.remove(value) -- remove first occurrence of value.\n",
      " |  \n",
      " |  reverse(...)\n",
      " |      D.reverse() -- reverse *IN PLACE*\n",
      " |  \n",
      " |  rotate(...)\n",
      " |      Rotate the deque n steps to the right (default n=1).  If n is negative, rotates left.\n",
      " |  \n",
      " |  ----------------------------------------------------------------------\n",
      " |  Class methods defined here:\n",
      " |  \n",
      " |  __class_getitem__(...) from builtins.type\n",
      " |      See PEP 585\n",
      " |  \n",
      " |  ----------------------------------------------------------------------\n",
      " |  Static methods defined here:\n",
      " |  \n",
      " |  __new__(*args, **kwargs) from builtins.type\n",
      " |      Create and return a new object.  See help(type) for accurate signature.\n",
      " |  \n",
      " |  ----------------------------------------------------------------------\n",
      " |  Data descriptors defined here:\n",
      " |  \n",
      " |  maxlen\n",
      " |      maximum size of a deque or None if unbounded\n",
      " |  \n",
      " |  ----------------------------------------------------------------------\n",
      " |  Data and other attributes defined here:\n",
      " |  \n",
      " |  __hash__ = None\n",
      "\n"
     ]
    }
   ],
   "source": [
    "help(deque)"
   ]
  },
  {
   "cell_type": "markdown",
   "id": "3378e452",
   "metadata": {},
   "source": [
    "## [`deque`에 대한 설명](https://velog.io/@raed123456/12%EC%9E%A5.-%EC%9E%90%EB%A3%8C%EA%B5%AC%EC%A1%B0-collections-%EB%AA%A8%EB%93%88)\n",
    "\n",
    "### append()\n",
    "\n",
    "```python\n",
    "from collections import deque\n",
    "\n",
    "deque_list = deque()\n",
    "for i in range(5):\n",
    "    deque_list.append(i)\n",
    "print(deque_list)\n",
    "\n",
    "출력 결과:\n",
    "deque([0, 1, 2, 3, 4])\n",
    "```\n",
    "\n",
    "### pop()\n",
    "\n",
    "```python\n",
    "from collections import deque\n",
    "\n",
    "# 스택의 구현\n",
    "deque_list = deque()\n",
    "for i in range(5):\n",
    "    deque_list.append(i)\n",
    "print(deque_list)\n",
    "\n",
    "for _ in range(5):\n",
    "    print(deque_list.pop())\n",
    "\n",
    "print('----------------')\n",
    "# 큐의 구현\n",
    "deque_list = deque()\n",
    "for i in range(5):\n",
    "    deque_list.appendleft(i)\n",
    "print(deque_list)\n",
    "\n",
    "for _ in range(5):\n",
    "    print(deque_list.pop())\n",
    "\n",
    "출력 결과:\n",
    "deque([0, 1, 2, 3, 4])\n",
    "4\n",
    "3\n",
    "2\n",
    "1\n",
    "0\n",
    "----------------\n",
    "deque([4, 3, 2, 1, 0])\n",
    "0\n",
    "1\n",
    "2\n",
    "3\n",
    "4\n",
    "```\n"
   ]
  },
  {
   "cell_type": "markdown",
   "id": "022e8a55",
   "metadata": {},
   "source": [
    "### 덱과 리스트 속도 차이\n",
    "\n",
    "리스트의 삭제 연산\n",
    "\n",
    "<img src=\"https://img1.daumcdn.net/thumb/R1280x0/?scode=mtistory2&fname=https%3A%2F%2Fblog.kakaocdn.net%2Fdn%2FwR7dz%2FbtrmlX9wW5u%2FORgD9RFQuecbXuI1Vca9S1%2Fimg.png\" width=\"80%\">"
   ]
  },
  {
   "cell_type": "code",
   "execution_count": 121,
   "id": "f5a31dfb",
   "metadata": {},
   "outputs": [
    {
     "name": "stdout",
     "output_type": "stream",
     "text": [
      "list, 삽입 수행 시간, 0.7426848411560059 초\n",
      "list, pop(0) 수행 시간, 7.049139738082886 초\n",
      "\n",
      "deque, 삽입 수행 시간, 0.6417763233184814 초\n",
      "deque, pop(0) 수행 시간, 0.0 초\n"
     ]
    }
   ],
   "source": [
    "import time\n",
    "from collections import deque\n",
    "\n",
    "\n",
    "def insert_and_pop(container, desc):\n",
    "    arr = range(10000000)\n",
    "\n",
    "    start = time.time()\n",
    "    for n in arr:\n",
    "        container.append(arr)\n",
    "    print(f'{desc}, 삽입 수행 시간, {time.time() - start} 초')\n",
    "\n",
    "    start = time.time()\n",
    "    for i in range(1000):\n",
    "        if type(container) is list:\n",
    "            container.pop(0)\n",
    "        else:\n",
    "            container.popleft()\n",
    "    print(f'{desc}, pop(0) 수행 시간, {time.time() - start} 초')\n",
    "\n",
    "\n",
    "\n",
    "l = list()\n",
    "d = deque()\n",
    "\n",
    "insert_and_pop(l, 'list')\n",
    "print()\n",
    "insert_and_pop(d, 'deque')"
   ]
  },
  {
   "cell_type": "markdown",
   "id": "fc9e3be7",
   "metadata": {},
   "source": [
    "### 힙(heap): 최댓값과 최솟값을 찾는 연산"
   ]
  },
  {
   "cell_type": "code",
   "execution_count": 53,
   "id": "19fe8e02",
   "metadata": {},
   "outputs": [],
   "source": [
    "import heapq"
   ]
  },
  {
   "cell_type": "code",
   "execution_count": 56,
   "id": "fb5748e8",
   "metadata": {
    "scrolled": true
   },
   "outputs": [
    {
     "name": "stdout",
     "output_type": "stream",
     "text": [
      "Help on module heapq:\n",
      "\n",
      "NAME\n",
      "    heapq - Heap queue algorithm (a.k.a. priority queue).\n",
      "\n",
      "MODULE REFERENCE\n",
      "    https://docs.python.org/3.11/library/heapq.html\n",
      "    \n",
      "    The following documentation is automatically generated from the Python\n",
      "    source files.  It may be incomplete, incorrect or include features that\n",
      "    are considered implementation detail and may vary between Python\n",
      "    implementations.  When in doubt, consult the module reference at the\n",
      "    location listed above.\n",
      "\n",
      "DESCRIPTION\n",
      "    Heaps are arrays for which a[k] <= a[2*k+1] and a[k] <= a[2*k+2] for\n",
      "    all k, counting elements from 0.  For the sake of comparison,\n",
      "    non-existing elements are considered to be infinite.  The interesting\n",
      "    property of a heap is that a[0] is always its smallest element.\n",
      "    \n",
      "    Usage:\n",
      "    \n",
      "    heap = []            # creates an empty heap\n",
      "    heappush(heap, item) # pushes a new item on the heap\n",
      "    item = heappop(heap) # pops the smallest item from the heap\n",
      "    item = heap[0]       # smallest item on the heap without popping it\n",
      "    heapify(x)           # transforms list into a heap, in-place, in linear time\n",
      "    item = heappushpop(heap, item) # pushes a new item and then returns\n",
      "                                   # the smallest item; the heap size is unchanged\n",
      "    item = heapreplace(heap, item) # pops and returns smallest item, and adds\n",
      "                                   # new item; the heap size is unchanged\n",
      "    \n",
      "    Our API differs from textbook heap algorithms as follows:\n",
      "    \n",
      "    - We use 0-based indexing.  This makes the relationship between the\n",
      "      index for a node and the indexes for its children slightly less\n",
      "      obvious, but is more suitable since Python uses 0-based indexing.\n",
      "    \n",
      "    - Our heappop() method returns the smallest item, not the largest.\n",
      "    \n",
      "    These two make it possible to view the heap as a regular Python list\n",
      "    without surprises: heap[0] is the smallest item, and heap.sort()\n",
      "    maintains the heap invariant!\n",
      "\n",
      "FUNCTIONS\n",
      "    heapify(heap, /)\n",
      "        Transform list into a heap, in-place, in O(len(heap)) time.\n",
      "    \n",
      "    heappop(heap, /)\n",
      "        Pop the smallest item off the heap, maintaining the heap invariant.\n",
      "    \n",
      "    heappush(heap, item, /)\n",
      "        Push item onto heap, maintaining the heap invariant.\n",
      "    \n",
      "    heappushpop(heap, item, /)\n",
      "        Push item on the heap, then pop and return the smallest item from the heap.\n",
      "        \n",
      "        The combined action runs more efficiently than heappush() followed by\n",
      "        a separate call to heappop().\n",
      "    \n",
      "    heapreplace(heap, item, /)\n",
      "        Pop and return the current smallest value, and add the new item.\n",
      "        \n",
      "        This is more efficient than heappop() followed by heappush(), and can be\n",
      "        more appropriate when using a fixed-size heap.  Note that the value\n",
      "        returned may be larger than item!  That constrains reasonable uses of\n",
      "        this routine unless written as part of a conditional replacement:\n",
      "        \n",
      "            if item > heap[0]:\n",
      "                item = heapreplace(heap, item)\n",
      "    \n",
      "    merge(*iterables, key=None, reverse=False)\n",
      "        Merge multiple sorted inputs into a single sorted output.\n",
      "        \n",
      "        Similar to sorted(itertools.chain(*iterables)) but returns a generator,\n",
      "        does not pull the data into memory all at once, and assumes that each of\n",
      "        the input streams is already sorted (smallest to largest).\n",
      "        \n",
      "        >>> list(merge([1,3,5,7], [0,2,4,8], [5,10,15,20], [], [25]))\n",
      "        [0, 1, 2, 3, 4, 5, 5, 7, 8, 10, 15, 20, 25]\n",
      "        \n",
      "        If *key* is not None, applies a key function to each element to determine\n",
      "        its sort order.\n",
      "        \n",
      "        >>> list(merge(['dog', 'horse'], ['cat', 'fish', 'kangaroo'], key=len))\n",
      "        ['dog', 'cat', 'fish', 'horse', 'kangaroo']\n",
      "    \n",
      "    nlargest(n, iterable, key=None)\n",
      "        Find the n largest elements in a dataset.\n",
      "        \n",
      "        Equivalent to:  sorted(iterable, key=key, reverse=True)[:n]\n",
      "    \n",
      "    nsmallest(n, iterable, key=None)\n",
      "        Find the n smallest elements in a dataset.\n",
      "        \n",
      "        Equivalent to:  sorted(iterable, key=key)[:n]\n",
      "\n",
      "DATA\n",
      "    __about__ = 'Heap queues\\n\\n[explanation by François Pinard]\\n\\nH... t...\n",
      "    __all__ = ['heappush', 'heappop', 'heapify', 'heapreplace', 'merge', '...\n",
      "\n",
      "FILE\n",
      "    c:\\users\\seongmin\\anaconda3\\lib\\heapq.py\n",
      "\n",
      "\n"
     ]
    }
   ],
   "source": [
    "help(heapq) # heapq - Heap queue algorithm (a.k.a. priority queue)."
   ]
  },
  {
   "cell_type": "code",
   "execution_count": 112,
   "id": "94e3931b",
   "metadata": {},
   "outputs": [],
   "source": [
    "heap = []\n",
    "heapq.heappush(heap, 50)\n",
    "heapq.heappush(heap, 10)\n",
    "heapq.heappush(heap, 20)"
   ]
  },
  {
   "cell_type": "code",
   "execution_count": 113,
   "id": "4bd3eb75",
   "metadata": {},
   "outputs": [
    {
     "name": "stdout",
     "output_type": "stream",
     "text": [
      "[10, 50, 20]\n"
     ]
    }
   ],
   "source": [
    "print(heap) # 최소 힙"
   ]
  },
  {
   "cell_type": "code",
   "execution_count": 114,
   "id": "3ef109c3",
   "metadata": {},
   "outputs": [
    {
     "data": {
      "text/plain": [
       "[-10, -50, -20]"
      ]
     },
     "execution_count": 114,
     "metadata": {},
     "output_type": "execute_result"
    }
   ],
   "source": [
    "# 최대 힙으로 바꾸기\n",
    "heap2 = list(map(lambda x: -x, heap))\n",
    "heap2"
   ]
  },
  {
   "cell_type": "code",
   "execution_count": 115,
   "id": "5c7398c0",
   "metadata": {},
   "outputs": [
    {
     "name": "stdout",
     "output_type": "stream",
     "text": [
      "[-50, -10, -20]\n"
     ]
    }
   ],
   "source": [
    "# 기존의 리스트를 힙 자료형으로 바꿀 수 있다.\n",
    "heapq.heapify(heap2)\n",
    "print(heap2)"
   ]
  },
  {
   "cell_type": "code",
   "execution_count": 116,
   "id": "973ca722",
   "metadata": {},
   "outputs": [
    {
     "data": {
      "text/plain": [
       "[50, 10, 20]"
      ]
     },
     "execution_count": 116,
     "metadata": {},
     "output_type": "execute_result"
    }
   ],
   "source": [
    "list(map(lambda x: -x, heap2))\n",
    "# [-_ for _ in heap2]"
   ]
  },
  {
   "cell_type": "code",
   "execution_count": 117,
   "id": "d75c0278",
   "metadata": {},
   "outputs": [
    {
     "data": {
      "text/plain": [
       "-50"
      ]
     },
     "execution_count": 117,
     "metadata": {},
     "output_type": "execute_result"
    }
   ],
   "source": [
    "# 가장 작은 원소 제거\n",
    "heapq.heappop(heap2)"
   ]
  },
  {
   "cell_type": "code",
   "execution_count": 118,
   "id": "5edc30c8",
   "metadata": {},
   "outputs": [
    {
     "data": {
      "text/plain": [
       "[-20, -10]"
      ]
     },
     "execution_count": 118,
     "metadata": {},
     "output_type": "execute_result"
    }
   ],
   "source": [
    "heap2 # [-50, -10, -20] -> [-20, -10]"
   ]
  },
  {
   "cell_type": "markdown",
   "id": "5c4a3e2d",
   "metadata": {},
   "source": [
    "# 1. 클래스의 정의: 클래스란? (붕어빵)\n",
    "\n",
    "# 2. 클래스를 쓰는 목적 (라면과 국수)\n",
    "\n",
    "# 3. 클래스 상속\n",
    "\n",
    "___\n",
    "___"
   ]
  },
  {
   "cell_type": "markdown",
   "id": "35704a74",
   "metadata": {},
   "source": [
    "## 1. 클래스의 정의: 클래스란? (붕어빵)"
   ]
  },
  {
   "cell_type": "raw",
   "id": "0b69d64e",
   "metadata": {},
   "source": [
    "클래스는 붕어빵을 만드는 틀\n",
    "\n",
    "객체는 붕어빵 틀로 만들 것 (추상적)\n",
    "인스턴스는 만들어진 붕어빵 (구체적)\n",
    "\n",
    "객체를 만드는 것을 클래스의 인스턴스라고 함\n",
    "\n",
    "객체와 인스턴스를 명확히 구분하지 않음 (객체가 포괄적)\n",
    "\n",
    "클래스와 객체/인스턴스는 다름\n",
    "설계도와 설계도로부터 만든 것\n",
    "붕어빵 틀 = 붕어빵 x\n",
    "\n",
    "이 붕어빵과 저 붕어빵은... id값 (메모리 주소)"
   ]
  },
  {
   "cell_type": "markdown",
   "id": "40db6fe4",
   "metadata": {},
   "source": [
    "## 2. 클래스를 쓰는 목적 (라면과 국수)\n",
    "\n",
    "- 함수를 효율적으로 쓰기 위함\n"
   ]
  },
  {
   "cell_type": "markdown",
   "id": "ae60a185",
   "metadata": {},
   "source": [
    "## 3. 클래스 상속"
   ]
  },
  {
   "cell_type": "raw",
   "id": "d8d57fab",
   "metadata": {},
   "source": [
    "파이썬의 모든 객체는 클래스다!\n",
    "클래스로부터 객체를 만든다고 했는데.. 객체가 어떻게 클래스일까\n",
    "\n",
    "3 정수형 int 클래스의 인스턴스\n",
    "\"a\" 문자형 str 클래스의 인스턴스\n",
    "[] 리스트 list 클래스의 인스턴스\n",
    "(), {} 등등 tuple, dict, set "
   ]
  },
  {
   "cell_type": "code",
   "execution_count": 219,
   "id": "518abb87",
   "metadata": {},
   "outputs": [
    {
     "name": "stdout",
     "output_type": "stream",
     "text": [
      "<class 'int'> <class 'str'> <class 'list'>\n"
     ]
    }
   ],
   "source": [
    "print(type(1), type('a'), type([1,2,3]))"
   ]
  },
  {
   "cell_type": "raw",
   "id": "a59cce2a",
   "metadata": {},
   "source": [
    "1은 사실 int 클래스의 인스턴스\n",
    "1+2 연산은 int 클래스의 특수 메서드 __add__가 호출"
   ]
  },
  {
   "cell_type": "code",
   "execution_count": 220,
   "id": "c28f8e35",
   "metadata": {},
   "outputs": [
    {
     "name": "stdout",
     "output_type": "stream",
     "text": [
      "Help on class int in module builtins:\n",
      "\n",
      "class int(object)\n",
      " |  int([x]) -> integer\n",
      " |  int(x, base=10) -> integer\n",
      " |  \n",
      " |  Convert a number or string to an integer, or return 0 if no arguments\n",
      " |  are given.  If x is a number, return x.__int__().  For floating point\n",
      " |  numbers, this truncates towards zero.\n",
      " |  \n",
      " |  If x is not a number or if base is given, then x must be a string,\n",
      " |  bytes, or bytearray instance representing an integer literal in the\n",
      " |  given base.  The literal can be preceded by '+' or '-' and be surrounded\n",
      " |  by whitespace.  The base defaults to 10.  Valid bases are 0 and 2-36.\n",
      " |  Base 0 means to interpret the base from the string as an integer literal.\n",
      " |  >>> int('0b100', base=0)\n",
      " |  4\n",
      " |  \n",
      " |  Built-in subclasses:\n",
      " |      bool\n",
      " |  \n",
      " |  Methods defined here:\n",
      " |  \n",
      " |  __abs__(self, /)\n",
      " |      abs(self)\n",
      " |  \n",
      " |  __add__(self, value, /)\n",
      " |      Return self+value.\n",
      " |  \n",
      " |  __and__(self, value, /)\n",
      " |      Return self&value.\n",
      " |  \n",
      " |  __bool__(self, /)\n",
      " |      True if self else False\n",
      " |  \n",
      " |  __ceil__(...)\n",
      " |      Ceiling of an Integral returns itself.\n",
      " |  \n",
      " |  __divmod__(self, value, /)\n",
      " |      Return divmod(self, value).\n",
      " |  \n",
      " |  __eq__(self, value, /)\n",
      " |      Return self==value.\n",
      " |  \n",
      " |  __float__(self, /)\n",
      " |      float(self)\n",
      " |  \n",
      " |  __floor__(...)\n",
      " |      Flooring an Integral returns itself.\n",
      " |  \n",
      " |  __floordiv__(self, value, /)\n",
      " |      Return self//value.\n",
      " |  \n",
      " |  __format__(self, format_spec, /)\n",
      " |      Default object formatter.\n",
      " |  \n",
      " |  __ge__(self, value, /)\n",
      " |      Return self>=value.\n",
      " |  \n",
      " |  __getattribute__(self, name, /)\n",
      " |      Return getattr(self, name).\n",
      " |  \n",
      " |  __getnewargs__(self, /)\n",
      " |  \n",
      " |  __gt__(self, value, /)\n",
      " |      Return self>value.\n",
      " |  \n",
      " |  __hash__(self, /)\n",
      " |      Return hash(self).\n",
      " |  \n",
      " |  __index__(self, /)\n",
      " |      Return self converted to an integer, if self is suitable for use as an index into a list.\n",
      " |  \n",
      " |  __int__(self, /)\n",
      " |      int(self)\n",
      " |  \n",
      " |  __invert__(self, /)\n",
      " |      ~self\n",
      " |  \n",
      " |  __le__(self, value, /)\n",
      " |      Return self<=value.\n",
      " |  \n",
      " |  __lshift__(self, value, /)\n",
      " |      Return self<<value.\n",
      " |  \n",
      " |  __lt__(self, value, /)\n",
      " |      Return self<value.\n",
      " |  \n",
      " |  __mod__(self, value, /)\n",
      " |      Return self%value.\n",
      " |  \n",
      " |  __mul__(self, value, /)\n",
      " |      Return self*value.\n",
      " |  \n",
      " |  __ne__(self, value, /)\n",
      " |      Return self!=value.\n",
      " |  \n",
      " |  __neg__(self, /)\n",
      " |      -self\n",
      " |  \n",
      " |  __or__(self, value, /)\n",
      " |      Return self|value.\n",
      " |  \n",
      " |  __pos__(self, /)\n",
      " |      +self\n",
      " |  \n",
      " |  __pow__(self, value, mod=None, /)\n",
      " |      Return pow(self, value, mod).\n",
      " |  \n",
      " |  __radd__(self, value, /)\n",
      " |      Return value+self.\n",
      " |  \n",
      " |  __rand__(self, value, /)\n",
      " |      Return value&self.\n",
      " |  \n",
      " |  __rdivmod__(self, value, /)\n",
      " |      Return divmod(value, self).\n",
      " |  \n",
      " |  __repr__(self, /)\n",
      " |      Return repr(self).\n",
      " |  \n",
      " |  __rfloordiv__(self, value, /)\n",
      " |      Return value//self.\n",
      " |  \n",
      " |  __rlshift__(self, value, /)\n",
      " |      Return value<<self.\n",
      " |  \n",
      " |  __rmod__(self, value, /)\n",
      " |      Return value%self.\n",
      " |  \n",
      " |  __rmul__(self, value, /)\n",
      " |      Return value*self.\n",
      " |  \n",
      " |  __ror__(self, value, /)\n",
      " |      Return value|self.\n",
      " |  \n",
      " |  __round__(...)\n",
      " |      Rounding an Integral returns itself.\n",
      " |      \n",
      " |      Rounding with an ndigits argument also returns an integer.\n",
      " |  \n",
      " |  __rpow__(self, value, mod=None, /)\n",
      " |      Return pow(value, self, mod).\n",
      " |  \n",
      " |  __rrshift__(self, value, /)\n",
      " |      Return value>>self.\n",
      " |  \n",
      " |  __rshift__(self, value, /)\n",
      " |      Return self>>value.\n",
      " |  \n",
      " |  __rsub__(self, value, /)\n",
      " |      Return value-self.\n",
      " |  \n",
      " |  __rtruediv__(self, value, /)\n",
      " |      Return value/self.\n",
      " |  \n",
      " |  __rxor__(self, value, /)\n",
      " |      Return value^self.\n",
      " |  \n",
      " |  __sizeof__(self, /)\n",
      " |      Returns size in memory, in bytes.\n",
      " |  \n",
      " |  __sub__(self, value, /)\n",
      " |      Return self-value.\n",
      " |  \n",
      " |  __truediv__(self, value, /)\n",
      " |      Return self/value.\n",
      " |  \n",
      " |  __trunc__(...)\n",
      " |      Truncating an Integral returns itself.\n",
      " |  \n",
      " |  __xor__(self, value, /)\n",
      " |      Return self^value.\n",
      " |  \n",
      " |  as_integer_ratio(self, /)\n",
      " |      Return integer ratio.\n",
      " |      \n",
      " |      Return a pair of integers, whose ratio is exactly equal to the original int\n",
      " |      and with a positive denominator.\n",
      " |      \n",
      " |      >>> (10).as_integer_ratio()\n",
      " |      (10, 1)\n",
      " |      >>> (-10).as_integer_ratio()\n",
      " |      (-10, 1)\n",
      " |      >>> (0).as_integer_ratio()\n",
      " |      (0, 1)\n",
      " |  \n",
      " |  bit_count(self, /)\n",
      " |      Number of ones in the binary representation of the absolute value of self.\n",
      " |      \n",
      " |      Also known as the population count.\n",
      " |      \n",
      " |      >>> bin(13)\n",
      " |      '0b1101'\n",
      " |      >>> (13).bit_count()\n",
      " |      3\n",
      " |  \n",
      " |  bit_length(self, /)\n",
      " |      Number of bits necessary to represent self in binary.\n",
      " |      \n",
      " |      >>> bin(37)\n",
      " |      '0b100101'\n",
      " |      >>> (37).bit_length()\n",
      " |      6\n",
      " |  \n",
      " |  conjugate(...)\n",
      " |      Returns self, the complex conjugate of any int.\n",
      " |  \n",
      " |  to_bytes(self, /, length=1, byteorder='big', *, signed=False)\n",
      " |      Return an array of bytes representing an integer.\n",
      " |      \n",
      " |      length\n",
      " |        Length of bytes object to use.  An OverflowError is raised if the\n",
      " |        integer is not representable with the given number of bytes.  Default\n",
      " |        is length 1.\n",
      " |      byteorder\n",
      " |        The byte order used to represent the integer.  If byteorder is 'big',\n",
      " |        the most significant byte is at the beginning of the byte array.  If\n",
      " |        byteorder is 'little', the most significant byte is at the end of the\n",
      " |        byte array.  To request the native byte order of the host system, use\n",
      " |        `sys.byteorder' as the byte order value.  Default is to use 'big'.\n",
      " |      signed\n",
      " |        Determines whether two's complement is used to represent the integer.\n",
      " |        If signed is False and a negative integer is given, an OverflowError\n",
      " |        is raised.\n",
      " |  \n",
      " |  ----------------------------------------------------------------------\n",
      " |  Class methods defined here:\n",
      " |  \n",
      " |  from_bytes(bytes, byteorder='big', *, signed=False) from builtins.type\n",
      " |      Return the integer represented by the given array of bytes.\n",
      " |      \n",
      " |      bytes\n",
      " |        Holds the array of bytes to convert.  The argument must either\n",
      " |        support the buffer protocol or be an iterable object producing bytes.\n",
      " |        Bytes and bytearray are examples of built-in objects that support the\n",
      " |        buffer protocol.\n",
      " |      byteorder\n",
      " |        The byte order used to represent the integer.  If byteorder is 'big',\n",
      " |        the most significant byte is at the beginning of the byte array.  If\n",
      " |        byteorder is 'little', the most significant byte is at the end of the\n",
      " |        byte array.  To request the native byte order of the host system, use\n",
      " |        `sys.byteorder' as the byte order value.  Default is to use 'big'.\n",
      " |      signed\n",
      " |        Indicates whether two's complement is used to represent the integer.\n",
      " |  \n",
      " |  ----------------------------------------------------------------------\n",
      " |  Static methods defined here:\n",
      " |  \n",
      " |  __new__(*args, **kwargs) from builtins.type\n",
      " |      Create and return a new object.  See help(type) for accurate signature.\n",
      " |  \n",
      " |  ----------------------------------------------------------------------\n",
      " |  Data descriptors defined here:\n",
      " |  \n",
      " |  denominator\n",
      " |      the denominator of a rational number in lowest terms\n",
      " |  \n",
      " |  imag\n",
      " |      the imaginary part of a complex number\n",
      " |  \n",
      " |  numerator\n",
      " |      the numerator of a rational number in lowest terms\n",
      " |  \n",
      " |  real\n",
      " |      the real part of a complex number\n",
      "\n"
     ]
    }
   ],
   "source": [
    "help(int) # Help on class int in module builtins:"
   ]
  },
  {
   "cell_type": "raw",
   "id": "92f87444",
   "metadata": {},
   "source": [
    "class int(object):\n",
    "...\n",
    "\n",
    "\n",
    "int 클래스는 object라는 부모 클래스로부터 상속받음\n",
    "object(객체)도 클래스"
   ]
  },
  {
   "cell_type": "code",
   "execution_count": 223,
   "id": "f6cc7dca",
   "metadata": {
    "scrolled": true
   },
   "outputs": [
    {
     "name": "stdout",
     "output_type": "stream",
     "text": [
      "Help on class object in module builtins:\n",
      "\n",
      "class object\n",
      " |  The base class of the class hierarchy.\n",
      " |  \n",
      " |  When called, it accepts no arguments and returns a new featureless\n",
      " |  instance that has no instance attributes and cannot be given any.\n",
      " |  \n",
      " |  Built-in subclasses:\n",
      " |      anext_awaitable\n",
      " |      async_generator\n",
      " |      async_generator_asend\n",
      " |      async_generator_athrow\n",
      " |      ... and 95 other subclasses\n",
      " |  \n",
      " |  Methods defined here:\n",
      " |  \n",
      " |  __delattr__(self, name, /)\n",
      " |      Implement delattr(self, name).\n",
      " |  \n",
      " |  __dir__(self, /)\n",
      " |      Default dir() implementation.\n",
      " |  \n",
      " |  __eq__(self, value, /)\n",
      " |      Return self==value.\n",
      " |  \n",
      " |  __format__(self, format_spec, /)\n",
      " |      Default object formatter.\n",
      " |  \n",
      " |  __ge__(self, value, /)\n",
      " |      Return self>=value.\n",
      " |  \n",
      " |  __getattribute__(self, name, /)\n",
      " |      Return getattr(self, name).\n",
      " |  \n",
      " |  __getstate__(self, /)\n",
      " |      Helper for pickle.\n",
      " |  \n",
      " |  __gt__(self, value, /)\n",
      " |      Return self>value.\n",
      " |  \n",
      " |  __hash__(self, /)\n",
      " |      Return hash(self).\n",
      " |  \n",
      " |  __init__(self, /, *args, **kwargs)\n",
      " |      Initialize self.  See help(type(self)) for accurate signature.\n",
      " |  \n",
      " |  __le__(self, value, /)\n",
      " |      Return self<=value.\n",
      " |  \n",
      " |  __lt__(self, value, /)\n",
      " |      Return self<value.\n",
      " |  \n",
      " |  __ne__(self, value, /)\n",
      " |      Return self!=value.\n",
      " |  \n",
      " |  __reduce__(self, /)\n",
      " |      Helper for pickle.\n",
      " |  \n",
      " |  __reduce_ex__(self, protocol, /)\n",
      " |      Helper for pickle.\n",
      " |  \n",
      " |  __repr__(self, /)\n",
      " |      Return repr(self).\n",
      " |  \n",
      " |  __setattr__(self, name, value, /)\n",
      " |      Implement setattr(self, name, value).\n",
      " |  \n",
      " |  __sizeof__(self, /)\n",
      " |      Size of object in memory, in bytes.\n",
      " |  \n",
      " |  __str__(self, /)\n",
      " |      Return str(self).\n",
      " |  \n",
      " |  ----------------------------------------------------------------------\n",
      " |  Class methods defined here:\n",
      " |  \n",
      " |  __init_subclass__(...) from builtins.type\n",
      " |      This method is called when a class is subclassed.\n",
      " |      \n",
      " |      The default implementation does nothing. It may be\n",
      " |      overridden to extend subclasses.\n",
      " |  \n",
      " |  __subclasshook__(...) from builtins.type\n",
      " |      Abstract classes can override this to customize issubclass().\n",
      " |      \n",
      " |      This is invoked early on by abc.ABCMeta.__subclasscheck__().\n",
      " |      It should return True, False or NotImplemented.  If it returns\n",
      " |      NotImplemented, the normal algorithm is used.  Otherwise, it\n",
      " |      overrides the normal algorithm (and the outcome is cached).\n",
      " |  \n",
      " |  ----------------------------------------------------------------------\n",
      " |  Static methods defined here:\n",
      " |  \n",
      " |  __new__(*args, **kwargs) from builtins.type\n",
      " |      Create and return a new object.  See help(type) for accurate signature.\n",
      " |  \n",
      " |  ----------------------------------------------------------------------\n",
      " |  Data and other attributes defined here:\n",
      " |  \n",
      " |  __class__ = <class 'type'>\n",
      " |      type(object) -> the object's type\n",
      " |      type(name, bases, dict, **kwds) -> a new type\n",
      "\n"
     ]
    }
   ],
   "source": [
    "help(object)"
   ]
  },
  {
   "cell_type": "code",
   "execution_count": 221,
   "id": "71c3fea7",
   "metadata": {},
   "outputs": [
    {
     "data": {
      "text/plain": [
       "type"
      ]
     },
     "execution_count": 221,
     "metadata": {},
     "output_type": "execute_result"
    }
   ],
   "source": [
    "type(int)"
   ]
  },
  {
   "cell_type": "code",
   "execution_count": 222,
   "id": "22a9ff09",
   "metadata": {
    "scrolled": true
   },
   "outputs": [
    {
     "name": "stdout",
     "output_type": "stream",
     "text": [
      "Help on class type in module builtins:\n",
      "\n",
      "class type(object)\n",
      " |  type(object) -> the object's type\n",
      " |  type(name, bases, dict, **kwds) -> a new type\n",
      " |  \n",
      " |  Methods defined here:\n",
      " |  \n",
      " |  __call__(self, /, *args, **kwargs)\n",
      " |      Call self as a function.\n",
      " |  \n",
      " |  __delattr__(self, name, /)\n",
      " |      Implement delattr(self, name).\n",
      " |  \n",
      " |  __dir__(self, /)\n",
      " |      Specialized __dir__ implementation for types.\n",
      " |  \n",
      " |  __getattribute__(self, name, /)\n",
      " |      Return getattr(self, name).\n",
      " |  \n",
      " |  __init__(self, /, *args, **kwargs)\n",
      " |      Initialize self.  See help(type(self)) for accurate signature.\n",
      " |  \n",
      " |  __instancecheck__(self, instance, /)\n",
      " |      Check if an object is an instance.\n",
      " |  \n",
      " |  __or__(self, value, /)\n",
      " |      Return self|value.\n",
      " |  \n",
      " |  __repr__(self, /)\n",
      " |      Return repr(self).\n",
      " |  \n",
      " |  __ror__(self, value, /)\n",
      " |      Return value|self.\n",
      " |  \n",
      " |  __setattr__(self, name, value, /)\n",
      " |      Implement setattr(self, name, value).\n",
      " |  \n",
      " |  __sizeof__(self, /)\n",
      " |      Return memory consumption of the type object.\n",
      " |  \n",
      " |  __subclasscheck__(self, subclass, /)\n",
      " |      Check if a class is a subclass.\n",
      " |  \n",
      " |  __subclasses__(self, /)\n",
      " |      Return a list of immediate subclasses.\n",
      " |  \n",
      " |  mro(self, /)\n",
      " |      Return a type's method resolution order.\n",
      " |  \n",
      " |  ----------------------------------------------------------------------\n",
      " |  Class methods defined here:\n",
      " |  \n",
      " |  __prepare__(...)\n",
      " |      __prepare__() -> dict\n",
      " |      used to create the namespace for the class statement\n",
      " |  \n",
      " |  ----------------------------------------------------------------------\n",
      " |  Static methods defined here:\n",
      " |  \n",
      " |  __new__(*args, **kwargs)\n",
      " |      Create and return a new object.  See help(type) for accurate signature.\n",
      " |  \n",
      " |  ----------------------------------------------------------------------\n",
      " |  Data descriptors defined here:\n",
      " |  \n",
      " |  __abstractmethods__\n",
      " |  \n",
      " |  __annotations__\n",
      " |  \n",
      " |  __dict__\n",
      " |  \n",
      " |  __text_signature__\n",
      " |  \n",
      " |  ----------------------------------------------------------------------\n",
      " |  Data and other attributes defined here:\n",
      " |  \n",
      " |  __base__ = <class 'object'>\n",
      " |      The base class of the class hierarchy.\n",
      " |      \n",
      " |      When called, it accepts no arguments and returns a new featureless\n",
      " |      instance that has no instance attributes and cannot be given any.\n",
      " |  \n",
      " |  \n",
      " |  __bases__ = (<class 'object'>,)\n",
      " |  \n",
      " |  __basicsize__ = 904\n",
      " |  \n",
      " |  __dictoffset__ = 264\n",
      " |  \n",
      " |  __flags__ = 2148031744\n",
      " |  \n",
      " |  __itemsize__ = 40\n",
      " |  \n",
      " |  __mro__ = (<class 'type'>, <class 'object'>)\n",
      " |  \n",
      " |  __weakrefoffset__ = 368\n",
      "\n"
     ]
    }
   ],
   "source": [
    "help(type)"
   ]
  },
  {
   "cell_type": "raw",
   "id": "069c4cc9",
   "metadata": {},
   "source": [
    "데이터의 형태를 알려주는 type 함수도 사실 클래스 -> 동적 바인딩... (타입 클래스)\n",
    "클래스를 만들어주는 클래스 -> 메타클래스"
   ]
  },
  {
   "cell_type": "markdown",
   "id": "208625d6",
   "metadata": {},
   "source": [
    "### 출처 및 참고문헌\n",
    "\n",
    "1. [파이썬을 이용한 비트코인 자동매매 - 위키독스](https://wikidocs.net/21813)  \n",
    "2. [알고리즘 + 자료구조 = 프로그램 자료구조의 개념과 종류 - 한빛출판네트워크](https://hanbit.co.kr/channel/category/category_view.html?cms_code=CMS2832062046) \n",
    "3. [좌충우돌, 파이썬으로 자료구조 구현하기](https://wikidocs.net/book/9059)\n",
    "4. [스택(Stack)과 큐(Queue)에 대해서 알아보자!](https://jud00.tistory.com/entry/%EC%9E%90%EB%A3%8C%EA%B5%AC%EC%A1%B0-%EC%8A%A4%ED%83%9DStack%EA%B3%BC-%ED%81%90Queue%EC%97%90-%EB%8C%80%ED%95%B4%EC%84%9C-%EC%95%8C%EC%95%84%EB%B3%B4%EC%9E%90)\n",
    "\n",
    "5. [자료구조 기초 Stack, 스택](https://buildgoodhabit.tistory.com/141)\n",
    "6. [파이썬 - 기본을 갈고 닦자!](https://wikidocs.net/book/1553)\n",
    "7. [자료구조와 알고리즘, 왜 중요할까?](https://prgms.tistory.com/134)\n",
    "8. [파이썬으로 구현하는 자료구조 요약 정리](https://davinci-ai.tistory.com/16)\n",
    "9. [자료구조 알고리즘 배열](https://jjoonleo.tistory.com/8)\n",
    "10. [12장. 자료구조-[collections 모듈]](https://velog.io/@raed123456/12%EC%9E%A5.-%EC%9E%90%EB%A3%8C%EA%B5%AC%EC%A1%B0-collections-%EB%AA%A8%EB%93%88)\n",
    "11. [덱 vs 리스트 속도 차이?](https://wellsw.tistory.com/122)\n",
    "12. [힙 자료구조 / 힙큐(heapq) / 파이썬에서 heapq 모듈 사용하기](https://littlefoxdiary.tistory.com/3)\n",
    "13. [Class 이해하기 :: Class를 쓰는 이유, Class vs function](https://leedakyeong.tistory.com/entry/Class-%EC%9D%B4%ED%95%B4%ED%95%98%EA%B8%B0-Class%EB%A5%BC-%EC%93%B0%EB%8A%94-%EC%9D%B4%EC%9C%A0-Class-vs-function)"
   ]
  }
 ],
 "metadata": {
  "kernelspec": {
   "display_name": "Python 3 (ipykernel)",
   "language": "python",
   "name": "python3"
  },
  "language_info": {
   "codemirror_mode": {
    "name": "ipython",
    "version": 3
   },
   "file_extension": ".py",
   "mimetype": "text/x-python",
   "name": "python",
   "nbconvert_exporter": "python",
   "pygments_lexer": "ipython3",
   "version": "3.11.5"
  }
 },
 "nbformat": 4,
 "nbformat_minor": 5
}
